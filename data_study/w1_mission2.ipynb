{
 "cells": [
  {
   "cell_type": "code",
   "execution_count": 20,
   "outputs": [
    {
     "data": {
      "text/plain": "     Year        Country  Spending_USD  Life_Expectancy\n0    1970        Germany       252.311             70.6\n1    1970         France       192.143             72.2\n2    1970  Great Britain       123.993             71.9\n3    1970          Japan       150.437             72.0\n4    1970            USA       326.961             70.9\n..    ...            ...           ...              ...\n269  2020        Germany      6938.983             81.1\n270  2020         France      5468.418             82.3\n271  2020  Great Britain      5018.700             80.4\n272  2020          Japan      4665.641             84.7\n273  2020            USA     11859.179             77.0\n\n[274 rows x 4 columns]",
      "text/html": "<div>\n<style scoped>\n    .dataframe tbody tr th:only-of-type {\n        vertical-align: middle;\n    }\n\n    .dataframe tbody tr th {\n        vertical-align: top;\n    }\n\n    .dataframe thead th {\n        text-align: right;\n    }\n</style>\n<table border=\"1\" class=\"dataframe\">\n  <thead>\n    <tr style=\"text-align: right;\">\n      <th></th>\n      <th>Year</th>\n      <th>Country</th>\n      <th>Spending_USD</th>\n      <th>Life_Expectancy</th>\n    </tr>\n  </thead>\n  <tbody>\n    <tr>\n      <th>0</th>\n      <td>1970</td>\n      <td>Germany</td>\n      <td>252.311</td>\n      <td>70.6</td>\n    </tr>\n    <tr>\n      <th>1</th>\n      <td>1970</td>\n      <td>France</td>\n      <td>192.143</td>\n      <td>72.2</td>\n    </tr>\n    <tr>\n      <th>2</th>\n      <td>1970</td>\n      <td>Great Britain</td>\n      <td>123.993</td>\n      <td>71.9</td>\n    </tr>\n    <tr>\n      <th>3</th>\n      <td>1970</td>\n      <td>Japan</td>\n      <td>150.437</td>\n      <td>72.0</td>\n    </tr>\n    <tr>\n      <th>4</th>\n      <td>1970</td>\n      <td>USA</td>\n      <td>326.961</td>\n      <td>70.9</td>\n    </tr>\n    <tr>\n      <th>...</th>\n      <td>...</td>\n      <td>...</td>\n      <td>...</td>\n      <td>...</td>\n    </tr>\n    <tr>\n      <th>269</th>\n      <td>2020</td>\n      <td>Germany</td>\n      <td>6938.983</td>\n      <td>81.1</td>\n    </tr>\n    <tr>\n      <th>270</th>\n      <td>2020</td>\n      <td>France</td>\n      <td>5468.418</td>\n      <td>82.3</td>\n    </tr>\n    <tr>\n      <th>271</th>\n      <td>2020</td>\n      <td>Great Britain</td>\n      <td>5018.700</td>\n      <td>80.4</td>\n    </tr>\n    <tr>\n      <th>272</th>\n      <td>2020</td>\n      <td>Japan</td>\n      <td>4665.641</td>\n      <td>84.7</td>\n    </tr>\n    <tr>\n      <th>273</th>\n      <td>2020</td>\n      <td>USA</td>\n      <td>11859.179</td>\n      <td>77.0</td>\n    </tr>\n  </tbody>\n</table>\n<p>274 rows × 4 columns</p>\n</div>"
     },
     "execution_count": 20,
     "metadata": {},
     "output_type": "execute_result"
    }
   ],
   "source": [
    "import pandas as pd\n",
    "import numpy as np\n",
    "df = pd.read_csv(\"https://raw.githubusercontent.com/mwaskom/seaborn-data/master/healthexp.csv\")\n",
    "df"
   ],
   "metadata": {
    "collapsed": false,
    "pycharm": {
     "name": "#%%\n"
    }
   }
  },
  {
   "cell_type": "code",
   "execution_count": 34,
   "outputs": [
    {
     "data": {
      "text/plain": "     Year        Country  Spending_USD  Life_Expectancy\n214  2011         Canada      4228.962             81.4\n215  2011        Germany      4566.678             80.5\n216  2011         France      4161.698             82.3\n217  2011  Great Britain      3495.652             81.0\n218  2011          Japan      3740.756             82.7\n219  2011            USA      8079.467             78.7\n220  2012         Canada      4336.249             81.6\n221  2012        Germany      4745.546             80.6\n222  2012         France      4299.434             82.1\n223  2012  Great Britain      3614.131             81.0\n224  2012          Japan      3970.765             83.2\n225  2012            USA      8346.064             78.8\n226  2013         Canada      4428.753             81.7\n227  2013        Germany      4951.677             80.6\n228  2013         France      4544.964             82.3\n229  2013  Great Britain      3667.636             81.1\n230  2013          Japan      4308.252             83.4\n231  2013            USA      8519.620             78.8\n232  2014         Canada      4536.810             81.8\n233  2014        Germany      5151.709             81.2\n234  2014         France      4626.679             82.8\n235  2014  Great Britain      3758.935             81.4\n236  2014          Japan      4328.364             83.7\n237  2014            USA      8925.879             78.9\n238  2015         Canada      4635.285             81.9\n239  2015        Germany      5295.975             80.7\n240  2015         France      4667.156             82.4\n241  2015  Great Britain      3805.820             81.0\n242  2015          Japan      4515.556             83.9\n243  2015            USA      9355.118             78.7\n244  2016         Canada      5044.275             82.0\n245  2016        Germany      5669.064             81.0\n246  2016         France      4928.128             82.7\n247  2016  Great Britain      3960.141             81.2\n248  2016          Japan      4295.858             84.1\n249  2016            USA      9717.649             78.7\n250  2017         Canada      5150.470             81.9\n251  2017        Germany      5970.163             81.1\n252  2017         France      5005.756             82.7\n253  2017  Great Britain      4059.125             81.3\n254  2017          Japan      4412.852             84.2\n255  2017            USA     10046.472             78.6\n256  2018         Canada      5308.356             82.0\n257  2018        Germany      6281.840             81.0\n258  2018         France      5099.306             82.8\n259  2018  Great Britain      4189.708             81.3\n260  2018          Japan      4554.276             84.3\n261  2018            USA     10451.386             78.7\n262  2019         Canada      5189.721             82.2\n263  2019        Germany      6407.928             81.3\n264  2019         France      5167.839             82.9\n265  2019  Great Britain      4385.463             81.4\n266  2019          Japan      4610.794             84.4\n267  2019            USA     10855.517             78.8\n268  2020         Canada      5828.324             81.7\n269  2020        Germany      6938.983             81.1\n270  2020         France      5468.418             82.3\n271  2020  Great Britain      5018.700             80.4\n272  2020          Japan      4665.641             84.7\n273  2020            USA     11859.179             77.0",
      "text/html": "<div>\n<style scoped>\n    .dataframe tbody tr th:only-of-type {\n        vertical-align: middle;\n    }\n\n    .dataframe tbody tr th {\n        vertical-align: top;\n    }\n\n    .dataframe thead th {\n        text-align: right;\n    }\n</style>\n<table border=\"1\" class=\"dataframe\">\n  <thead>\n    <tr style=\"text-align: right;\">\n      <th></th>\n      <th>Year</th>\n      <th>Country</th>\n      <th>Spending_USD</th>\n      <th>Life_Expectancy</th>\n    </tr>\n  </thead>\n  <tbody>\n    <tr>\n      <th>214</th>\n      <td>2011</td>\n      <td>Canada</td>\n      <td>4228.962</td>\n      <td>81.4</td>\n    </tr>\n    <tr>\n      <th>215</th>\n      <td>2011</td>\n      <td>Germany</td>\n      <td>4566.678</td>\n      <td>80.5</td>\n    </tr>\n    <tr>\n      <th>216</th>\n      <td>2011</td>\n      <td>France</td>\n      <td>4161.698</td>\n      <td>82.3</td>\n    </tr>\n    <tr>\n      <th>217</th>\n      <td>2011</td>\n      <td>Great Britain</td>\n      <td>3495.652</td>\n      <td>81.0</td>\n    </tr>\n    <tr>\n      <th>218</th>\n      <td>2011</td>\n      <td>Japan</td>\n      <td>3740.756</td>\n      <td>82.7</td>\n    </tr>\n    <tr>\n      <th>219</th>\n      <td>2011</td>\n      <td>USA</td>\n      <td>8079.467</td>\n      <td>78.7</td>\n    </tr>\n    <tr>\n      <th>220</th>\n      <td>2012</td>\n      <td>Canada</td>\n      <td>4336.249</td>\n      <td>81.6</td>\n    </tr>\n    <tr>\n      <th>221</th>\n      <td>2012</td>\n      <td>Germany</td>\n      <td>4745.546</td>\n      <td>80.6</td>\n    </tr>\n    <tr>\n      <th>222</th>\n      <td>2012</td>\n      <td>France</td>\n      <td>4299.434</td>\n      <td>82.1</td>\n    </tr>\n    <tr>\n      <th>223</th>\n      <td>2012</td>\n      <td>Great Britain</td>\n      <td>3614.131</td>\n      <td>81.0</td>\n    </tr>\n    <tr>\n      <th>224</th>\n      <td>2012</td>\n      <td>Japan</td>\n      <td>3970.765</td>\n      <td>83.2</td>\n    </tr>\n    <tr>\n      <th>225</th>\n      <td>2012</td>\n      <td>USA</td>\n      <td>8346.064</td>\n      <td>78.8</td>\n    </tr>\n    <tr>\n      <th>226</th>\n      <td>2013</td>\n      <td>Canada</td>\n      <td>4428.753</td>\n      <td>81.7</td>\n    </tr>\n    <tr>\n      <th>227</th>\n      <td>2013</td>\n      <td>Germany</td>\n      <td>4951.677</td>\n      <td>80.6</td>\n    </tr>\n    <tr>\n      <th>228</th>\n      <td>2013</td>\n      <td>France</td>\n      <td>4544.964</td>\n      <td>82.3</td>\n    </tr>\n    <tr>\n      <th>229</th>\n      <td>2013</td>\n      <td>Great Britain</td>\n      <td>3667.636</td>\n      <td>81.1</td>\n    </tr>\n    <tr>\n      <th>230</th>\n      <td>2013</td>\n      <td>Japan</td>\n      <td>4308.252</td>\n      <td>83.4</td>\n    </tr>\n    <tr>\n      <th>231</th>\n      <td>2013</td>\n      <td>USA</td>\n      <td>8519.620</td>\n      <td>78.8</td>\n    </tr>\n    <tr>\n      <th>232</th>\n      <td>2014</td>\n      <td>Canada</td>\n      <td>4536.810</td>\n      <td>81.8</td>\n    </tr>\n    <tr>\n      <th>233</th>\n      <td>2014</td>\n      <td>Germany</td>\n      <td>5151.709</td>\n      <td>81.2</td>\n    </tr>\n    <tr>\n      <th>234</th>\n      <td>2014</td>\n      <td>France</td>\n      <td>4626.679</td>\n      <td>82.8</td>\n    </tr>\n    <tr>\n      <th>235</th>\n      <td>2014</td>\n      <td>Great Britain</td>\n      <td>3758.935</td>\n      <td>81.4</td>\n    </tr>\n    <tr>\n      <th>236</th>\n      <td>2014</td>\n      <td>Japan</td>\n      <td>4328.364</td>\n      <td>83.7</td>\n    </tr>\n    <tr>\n      <th>237</th>\n      <td>2014</td>\n      <td>USA</td>\n      <td>8925.879</td>\n      <td>78.9</td>\n    </tr>\n    <tr>\n      <th>238</th>\n      <td>2015</td>\n      <td>Canada</td>\n      <td>4635.285</td>\n      <td>81.9</td>\n    </tr>\n    <tr>\n      <th>239</th>\n      <td>2015</td>\n      <td>Germany</td>\n      <td>5295.975</td>\n      <td>80.7</td>\n    </tr>\n    <tr>\n      <th>240</th>\n      <td>2015</td>\n      <td>France</td>\n      <td>4667.156</td>\n      <td>82.4</td>\n    </tr>\n    <tr>\n      <th>241</th>\n      <td>2015</td>\n      <td>Great Britain</td>\n      <td>3805.820</td>\n      <td>81.0</td>\n    </tr>\n    <tr>\n      <th>242</th>\n      <td>2015</td>\n      <td>Japan</td>\n      <td>4515.556</td>\n      <td>83.9</td>\n    </tr>\n    <tr>\n      <th>243</th>\n      <td>2015</td>\n      <td>USA</td>\n      <td>9355.118</td>\n      <td>78.7</td>\n    </tr>\n    <tr>\n      <th>244</th>\n      <td>2016</td>\n      <td>Canada</td>\n      <td>5044.275</td>\n      <td>82.0</td>\n    </tr>\n    <tr>\n      <th>245</th>\n      <td>2016</td>\n      <td>Germany</td>\n      <td>5669.064</td>\n      <td>81.0</td>\n    </tr>\n    <tr>\n      <th>246</th>\n      <td>2016</td>\n      <td>France</td>\n      <td>4928.128</td>\n      <td>82.7</td>\n    </tr>\n    <tr>\n      <th>247</th>\n      <td>2016</td>\n      <td>Great Britain</td>\n      <td>3960.141</td>\n      <td>81.2</td>\n    </tr>\n    <tr>\n      <th>248</th>\n      <td>2016</td>\n      <td>Japan</td>\n      <td>4295.858</td>\n      <td>84.1</td>\n    </tr>\n    <tr>\n      <th>249</th>\n      <td>2016</td>\n      <td>USA</td>\n      <td>9717.649</td>\n      <td>78.7</td>\n    </tr>\n    <tr>\n      <th>250</th>\n      <td>2017</td>\n      <td>Canada</td>\n      <td>5150.470</td>\n      <td>81.9</td>\n    </tr>\n    <tr>\n      <th>251</th>\n      <td>2017</td>\n      <td>Germany</td>\n      <td>5970.163</td>\n      <td>81.1</td>\n    </tr>\n    <tr>\n      <th>252</th>\n      <td>2017</td>\n      <td>France</td>\n      <td>5005.756</td>\n      <td>82.7</td>\n    </tr>\n    <tr>\n      <th>253</th>\n      <td>2017</td>\n      <td>Great Britain</td>\n      <td>4059.125</td>\n      <td>81.3</td>\n    </tr>\n    <tr>\n      <th>254</th>\n      <td>2017</td>\n      <td>Japan</td>\n      <td>4412.852</td>\n      <td>84.2</td>\n    </tr>\n    <tr>\n      <th>255</th>\n      <td>2017</td>\n      <td>USA</td>\n      <td>10046.472</td>\n      <td>78.6</td>\n    </tr>\n    <tr>\n      <th>256</th>\n      <td>2018</td>\n      <td>Canada</td>\n      <td>5308.356</td>\n      <td>82.0</td>\n    </tr>\n    <tr>\n      <th>257</th>\n      <td>2018</td>\n      <td>Germany</td>\n      <td>6281.840</td>\n      <td>81.0</td>\n    </tr>\n    <tr>\n      <th>258</th>\n      <td>2018</td>\n      <td>France</td>\n      <td>5099.306</td>\n      <td>82.8</td>\n    </tr>\n    <tr>\n      <th>259</th>\n      <td>2018</td>\n      <td>Great Britain</td>\n      <td>4189.708</td>\n      <td>81.3</td>\n    </tr>\n    <tr>\n      <th>260</th>\n      <td>2018</td>\n      <td>Japan</td>\n      <td>4554.276</td>\n      <td>84.3</td>\n    </tr>\n    <tr>\n      <th>261</th>\n      <td>2018</td>\n      <td>USA</td>\n      <td>10451.386</td>\n      <td>78.7</td>\n    </tr>\n    <tr>\n      <th>262</th>\n      <td>2019</td>\n      <td>Canada</td>\n      <td>5189.721</td>\n      <td>82.2</td>\n    </tr>\n    <tr>\n      <th>263</th>\n      <td>2019</td>\n      <td>Germany</td>\n      <td>6407.928</td>\n      <td>81.3</td>\n    </tr>\n    <tr>\n      <th>264</th>\n      <td>2019</td>\n      <td>France</td>\n      <td>5167.839</td>\n      <td>82.9</td>\n    </tr>\n    <tr>\n      <th>265</th>\n      <td>2019</td>\n      <td>Great Britain</td>\n      <td>4385.463</td>\n      <td>81.4</td>\n    </tr>\n    <tr>\n      <th>266</th>\n      <td>2019</td>\n      <td>Japan</td>\n      <td>4610.794</td>\n      <td>84.4</td>\n    </tr>\n    <tr>\n      <th>267</th>\n      <td>2019</td>\n      <td>USA</td>\n      <td>10855.517</td>\n      <td>78.8</td>\n    </tr>\n    <tr>\n      <th>268</th>\n      <td>2020</td>\n      <td>Canada</td>\n      <td>5828.324</td>\n      <td>81.7</td>\n    </tr>\n    <tr>\n      <th>269</th>\n      <td>2020</td>\n      <td>Germany</td>\n      <td>6938.983</td>\n      <td>81.1</td>\n    </tr>\n    <tr>\n      <th>270</th>\n      <td>2020</td>\n      <td>France</td>\n      <td>5468.418</td>\n      <td>82.3</td>\n    </tr>\n    <tr>\n      <th>271</th>\n      <td>2020</td>\n      <td>Great Britain</td>\n      <td>5018.700</td>\n      <td>80.4</td>\n    </tr>\n    <tr>\n      <th>272</th>\n      <td>2020</td>\n      <td>Japan</td>\n      <td>4665.641</td>\n      <td>84.7</td>\n    </tr>\n    <tr>\n      <th>273</th>\n      <td>2020</td>\n      <td>USA</td>\n      <td>11859.179</td>\n      <td>77.0</td>\n    </tr>\n  </tbody>\n</table>\n</div>"
     },
     "execution_count": 34,
     "metadata": {},
     "output_type": "execute_result"
    }
   ],
   "source": [
    "df1=df[df['Year']>=2011]\n",
    "df1    #2011년 이후의 데이터 구하기"
   ],
   "metadata": {
    "collapsed": false,
    "pycharm": {
     "name": "#%%\n"
    }
   }
  },
  {
   "cell_type": "code",
   "execution_count": 36,
   "outputs": [
    {
     "data": {
      "text/plain": "Country  Canada  France  Germany  Great Britain  Japan   USA\nYear                                                        \n2011       81.4    82.3     80.5           81.0   82.7  78.7\n2012       81.6    82.1     80.6           81.0   83.2  78.8\n2013       81.7    82.3     80.6           81.1   83.4  78.8\n2014       81.8    82.8     81.2           81.4   83.7  78.9\n2015       81.9    82.4     80.7           81.0   83.9  78.7\n2016       82.0    82.7     81.0           81.2   84.1  78.7\n2017       81.9    82.7     81.1           81.3   84.2  78.6\n2018       82.0    82.8     81.0           81.3   84.3  78.7\n2019       82.2    82.9     81.3           81.4   84.4  78.8\n2020       81.7    82.3     81.1           80.4   84.7  77.0",
      "text/html": "<div>\n<style scoped>\n    .dataframe tbody tr th:only-of-type {\n        vertical-align: middle;\n    }\n\n    .dataframe tbody tr th {\n        vertical-align: top;\n    }\n\n    .dataframe thead th {\n        text-align: right;\n    }\n</style>\n<table border=\"1\" class=\"dataframe\">\n  <thead>\n    <tr style=\"text-align: right;\">\n      <th>Country</th>\n      <th>Canada</th>\n      <th>France</th>\n      <th>Germany</th>\n      <th>Great Britain</th>\n      <th>Japan</th>\n      <th>USA</th>\n    </tr>\n    <tr>\n      <th>Year</th>\n      <th></th>\n      <th></th>\n      <th></th>\n      <th></th>\n      <th></th>\n      <th></th>\n    </tr>\n  </thead>\n  <tbody>\n    <tr>\n      <th>2011</th>\n      <td>81.4</td>\n      <td>82.3</td>\n      <td>80.5</td>\n      <td>81.0</td>\n      <td>82.7</td>\n      <td>78.7</td>\n    </tr>\n    <tr>\n      <th>2012</th>\n      <td>81.6</td>\n      <td>82.1</td>\n      <td>80.6</td>\n      <td>81.0</td>\n      <td>83.2</td>\n      <td>78.8</td>\n    </tr>\n    <tr>\n      <th>2013</th>\n      <td>81.7</td>\n      <td>82.3</td>\n      <td>80.6</td>\n      <td>81.1</td>\n      <td>83.4</td>\n      <td>78.8</td>\n    </tr>\n    <tr>\n      <th>2014</th>\n      <td>81.8</td>\n      <td>82.8</td>\n      <td>81.2</td>\n      <td>81.4</td>\n      <td>83.7</td>\n      <td>78.9</td>\n    </tr>\n    <tr>\n      <th>2015</th>\n      <td>81.9</td>\n      <td>82.4</td>\n      <td>80.7</td>\n      <td>81.0</td>\n      <td>83.9</td>\n      <td>78.7</td>\n    </tr>\n    <tr>\n      <th>2016</th>\n      <td>82.0</td>\n      <td>82.7</td>\n      <td>81.0</td>\n      <td>81.2</td>\n      <td>84.1</td>\n      <td>78.7</td>\n    </tr>\n    <tr>\n      <th>2017</th>\n      <td>81.9</td>\n      <td>82.7</td>\n      <td>81.1</td>\n      <td>81.3</td>\n      <td>84.2</td>\n      <td>78.6</td>\n    </tr>\n    <tr>\n      <th>2018</th>\n      <td>82.0</td>\n      <td>82.8</td>\n      <td>81.0</td>\n      <td>81.3</td>\n      <td>84.3</td>\n      <td>78.7</td>\n    </tr>\n    <tr>\n      <th>2019</th>\n      <td>82.2</td>\n      <td>82.9</td>\n      <td>81.3</td>\n      <td>81.4</td>\n      <td>84.4</td>\n      <td>78.8</td>\n    </tr>\n    <tr>\n      <th>2020</th>\n      <td>81.7</td>\n      <td>82.3</td>\n      <td>81.1</td>\n      <td>80.4</td>\n      <td>84.7</td>\n      <td>77.0</td>\n    </tr>\n  </tbody>\n</table>\n</div>"
     },
     "execution_count": 36,
     "metadata": {},
     "output_type": "execute_result"
    }
   ],
   "source": [
    "df2=df1.pivot_table(values='Life_Expectancy', index = 'Year', columns='Country', aggfunc='mean')\n",
    "df2    #연도별, 국가별로 기대 평균수명의 평균"
   ],
   "metadata": {
    "collapsed": false,
    "pycharm": {
     "name": "#%%\n"
    }
   }
  },
  {
   "cell_type": "code",
   "execution_count": null,
   "outputs": [],
   "source": [],
   "metadata": {
    "collapsed": false,
    "pycharm": {
     "name": "#%%\n"
    }
   }
  }
 ],
 "metadata": {
  "kernelspec": {
   "display_name": "Python 3",
   "language": "python",
   "name": "python3"
  },
  "language_info": {
   "codemirror_mode": {
    "name": "ipython",
    "version": 2
   },
   "file_extension": ".py",
   "mimetype": "text/x-python",
   "name": "python",
   "nbconvert_exporter": "python",
   "pygments_lexer": "ipython2",
   "version": "2.7.6"
  }
 },
 "nbformat": 4,
 "nbformat_minor": 0
}