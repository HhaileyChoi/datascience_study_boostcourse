{
 "cells": [
  {
   "cell_type": "markdown",
   "source": [
    "# 주피터 노트북 사용법\n",
    "## shift + enter 키를 누르면 셀이 실행되고 커서가 다음 셀로 이동\n",
    "## enter 키를 누르면 다시 편집상태로 돌아옴\n",
    "## esc키를 누르고\n",
    "* a 키를 누르면 위에 셀 추가\n",
    "* b 키를 누르면 아래에 셀 추가\n",
    "* dd 키를 누르면 셀 삭제\n",
    "* m 키를 누르면 문서 셀로 변경\n",
    "* y 키를 누르면 코드 셀로 변경\n",
    "* h 키 누르면 여러 단축키 확인 가능"
   ],
   "metadata": {
    "collapsed": false,
    "pycharm": {
     "name": "#%% md\n"
    }
   }
  },
  {
   "cell_type": "markdown",
   "source": [
    "# 마크다운(Markdown)이란?\n",
    "## 코드와 함께 문서화 가능\n",
    "## 문서화 할 수 있는 '문법'\n",
    "```\n",
    "여러 줄의 설명을 줄바꿈으로 쓰고자 할 때\n",
    "```"
   ],
   "metadata": {
    "collapsed": false,
    "pycharm": {
     "name": "#%% md\n"
    }
   }
  },
  {
   "cell_type": "markdown",
   "source": [
    "## Nbextensions\n",
    "### table of contents\n",
    "### contents에 대한 index작성됨"
   ],
   "metadata": {
    "collapsed": false,
    "pycharm": {
     "name": "#%% md\n"
    }
   }
  },
  {
   "cell_type": "code",
   "execution_count": null,
   "outputs": [],
   "source": [],
   "metadata": {
    "collapsed": false,
    "pycharm": {
     "name": "#%%\n"
    }
   }
  }
 ],
 "metadata": {
  "kernelspec": {
   "display_name": "Python 3",
   "language": "python",
   "name": "python3"
  },
  "language_info": {
   "codemirror_mode": {
    "name": "ipython",
    "version": 2
   },
   "file_extension": ".py",
   "mimetype": "text/x-python",
   "name": "python",
   "nbconvert_exporter": "python",
   "pygments_lexer": "ipython2",
   "version": "2.7.6"
  }
 },
 "nbformat": 4,
 "nbformat_minor": 0
}